{
  "cells": [
    {
      "cell_type": "markdown",
      "metadata": {
        "id": "view-in-github",
        "colab_type": "text"
      },
      "source": [
        "<a href=\"https://colab.research.google.com/github/Soham-330/SOC-Guided-Tour-to-PyTorch/blob/main/MNIST_Number.ipynb\" target=\"_parent\"><img src=\"https://colab.research.google.com/assets/colab-badge.svg\" alt=\"Open In Colab\"/></a>"
      ]
    },
    {
      "cell_type": "code",
      "execution_count": null,
      "metadata": {
        "colab": {
          "background_save": true
        },
        "id": "SFg4iAOU7H_q",
        "outputId": "ad31f8d4-af83-4446-dc1e-7de7760e9bb4"
      },
      "outputs": [
        {
          "name": "stdout",
          "output_type": "stream",
          "text": [
            "torch.Size([100, 1, 28, 28]) torch.Size([100])\n",
            "Epoch [1/5], Step [100/600], Loss: 0.4657\n",
            "Epoch [1/5], Step [200/600], Loss: 0.2736\n",
            "Epoch [1/5], Step [300/600], Loss: 0.2380\n",
            "Epoch [1/5], Step [400/600], Loss: 0.3950\n",
            "Epoch [1/5], Step [500/600], Loss: 0.0742\n",
            "Epoch [1/5], Step [600/600], Loss: 0.2490\n",
            "Epoch [2/5], Step [100/600], Loss: 0.1712\n",
            "Epoch [2/5], Step [200/600], Loss: 0.2136\n",
            "Epoch [2/5], Step [300/600], Loss: 0.1861\n",
            "Epoch [2/5], Step [400/600], Loss: 0.0746\n",
            "Epoch [2/5], Step [500/600], Loss: 0.1403\n",
            "Epoch [2/5], Step [600/600], Loss: 0.1214\n",
            "Epoch [3/5], Step [100/600], Loss: 0.1296\n",
            "Epoch [3/5], Step [200/600], Loss: 0.0808\n",
            "Epoch [3/5], Step [300/600], Loss: 0.1075\n",
            "Epoch [3/5], Step [400/600], Loss: 0.0480\n",
            "Epoch [3/5], Step [500/600], Loss: 0.0962\n",
            "Epoch [3/5], Step [600/600], Loss: 0.1710\n",
            "Epoch [4/5], Step [100/600], Loss: 0.0527\n",
            "Epoch [4/5], Step [200/600], Loss: 0.1396\n",
            "Epoch [4/5], Step [300/600], Loss: 0.0587\n",
            "Epoch [4/5], Step [400/600], Loss: 0.0453\n",
            "Epoch [4/5], Step [500/600], Loss: 0.1068\n",
            "Epoch [4/5], Step [600/600], Loss: 0.0946\n",
            "Epoch [5/5], Step [100/600], Loss: 0.0794\n",
            "Epoch [5/5], Step [200/600], Loss: 0.0792\n",
            "Epoch [5/5], Step [300/600], Loss: 0.1494\n",
            "Epoch [5/5], Step [400/600], Loss: 0.0876\n",
            "Epoch [5/5], Step [500/600], Loss: 0.1078\n",
            "Epoch [5/5], Step [600/600], Loss: 0.0542\n",
            "Accuracy = 96.76 %\n"
          ]
        },
        {
          "data": {
            "image/png": "[encoded data removed]",
            "text/plain": [
              "<Figure size 640x480 with 6 Axes>"
            ]
          },
          "metadata": {},
          "output_type": "display_data"
        }
      ],
      "source": [
        "import torch\n",
        "import torch.nn as nn\n",
        "import torchvision\n",
        "import torchvision.transforms as transforms\n",
        "import matplotlib.pyplot as plt\n",
        "\n",
        "input_size = 784\n",
        "hidden_size = 100\n",
        "num_classes = 10\n",
        "num_epochs = 5\n",
        "batch_size = 100\n",
        "learning_rate = 0.001\n",
        "\n",
        "#MNIST Data Classification Problem\n",
        "train_dataset = torchvision.datasets.MNIST(root='./data', train=True, transform=transforms.ToTensor(), download=True)\n",
        "test_dataset = torchvision.datasets.MNIST(root='./data', train=False, transform=transforms.ToTensor())\n",
        "train_loader = torch.utils.data.DataLoader(dataset=train_dataset, batch_size=batch_size, shuffle=True)\n",
        "test_loader = torch.utils.data.DataLoader(dataset=test_dataset, batch_size=batch_size, shuffle=False)\n",
        "\n",
        "examples = iter(train_loader)\n",
        "samples , labels = next(examples)\n",
        "print(samples.shape, labels.shape)\n",
        "\n",
        "for i in range(6):\n",
        "    plt.subplot(2,3,i+1)\n",
        "    plt.imshow(samples[i][0], cmap='gray')\n",
        "\n",
        "class NeuralNet(nn.Module):\n",
        "    def __init__(self, input_size, hidden_size, num_classes):\n",
        "        super(NeuralNet, self).__init__()\n",
        "        self.l1 = nn.Linear(input_size, hidden_size)\n",
        "        self.relu = nn.ReLU()\n",
        "        self.l2 = nn.Linear(hidden_size, num_classes)\n",
        "\n",
        "    def forward(self, x):\n",
        "        out = self.l1(x)\n",
        "        out = self.relu(out)\n",
        "        out = self.l2(out)\n",
        "        return out\n",
        "\n",
        "model = NeuralNet(input_size, hidden_size, num_classes)\n",
        "criterion = nn.CrossEntropyLoss()\n",
        "optimizer = torch.optim.Adam(model.parameters(), lr=learning_rate)\n",
        "\n",
        "n_total_steps = len(train_loader)\n",
        "\n",
        "for epoch in range(num_epochs):\n",
        "    for i, (images,labels) in enumerate(train_loader):\n",
        "        images = images.reshape(-1, 28*28)\n",
        "        outputs = model(images)\n",
        "        loss = criterion(outputs, labels)\n",
        "\n",
        "        optimizer.zero_grad()\n",
        "        loss.backward()\n",
        "        optimizer.step()\n",
        "\n",
        "        if (i+1)% 100 == 0 :\n",
        "            print(f'Epoch [{epoch+1}/{num_epochs}], Step [{i+1}/{n_total_steps}], Loss: {loss.item():.4f}')\n",
        "\n",
        "with torch.no_grad():\n",
        "    n_correct = 0\n",
        "    n_samples = 0\n",
        "    for images, labels in test_loader:\n",
        "        images = images.reshape(-1, 28*28)\n",
        "        outputs = model(images)\n",
        "\n",
        "        _, predictions = torch.max(outputs,1)\n",
        "        n_samples += labels.shape[0]\n",
        "        n_correct += (predictions == labels).sum().item()\n",
        "\n",
        "    acc = 100.0 * n_correct / n_samples\n",
        "    print(f'Accuracy = {acc} %')\n",
        "\n",
        "\n"
      ]
    }
  ],
  "metadata": {
    "colab": {
      "provenance": [],
      "authorship_tag": "ABX9TyPUC4RhW0eEesngqLf8L7BH",
      "include_colab_link": true
    },
    "kernelspec": {
      "display_name": "Python 3",
      "name": "python3"
    },
    "language_info": {
      "name": "python"
    }
  },
  "nbformat": 4,
  "nbformat_minor": 0
}